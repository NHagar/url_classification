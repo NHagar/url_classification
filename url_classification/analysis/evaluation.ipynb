{
 "cells": [
  {
   "cell_type": "code",
   "execution_count": 1,
   "metadata": {},
   "outputs": [
    {
     "name": "stderr",
     "output_type": "stream",
     "text": [
      "/Users/nrh146/.pyenv/versions/3.12.4/envs/url_clf/lib/python3.12/site-packages/sentence_transformers/cross_encoder/CrossEncoder.py:11: TqdmWarning: IProgress not found. Please update jupyter and ipywidgets. See https://ipywidgets.readthedocs.io/en/stable/user_install.html\n",
      "  from tqdm.autonotebook import tqdm, trange\n"
     ]
    }
   ],
   "source": [
    "import duckdb\n",
    "import pandas as pd\n",
    "from sentence_transformers import SentenceTransformer\n",
    "from sklearn.metrics import accuracy_score, precision_score, recall_score, f1_score\n",
    "from transformers import DistilBertTokenizerFast, DistilBertForSequenceClassification\n",
    "import torch\n",
    "from torch.utils.data import DataLoader, TensorDataset\n",
    "from tqdm import tqdm"
   ]
  },
  {
   "cell_type": "code",
   "execution_count": 2,
   "metadata": {},
   "outputs": [],
   "source": [
    "con = duckdb.connect(':memory:')"
   ]
  },
  {
   "cell_type": "code",
   "execution_count": 27,
   "metadata": {},
   "outputs": [],
   "source": [
    "MAPPING_PATHS = {\n",
    "    \"huffpo\": None,\n",
    "    \"uci\": \"../../data/uci_categories_attributed.csv\",\n",
    "    \"recognasumm\": \"../../data/recognasumm_categories_attributed.csv\"\n",
    "}"
   ]
  },
  {
   "cell_type": "code",
   "execution_count": 38,
   "metadata": {},
   "outputs": [],
   "source": [
    "datasets = [\"huffpo\", \"uci\", \"recognasumm\"]\n",
    "evaluation_metrics = []"
   ]
  },
  {
   "cell_type": "markdown",
   "metadata": {},
   "source": [
    "# BERT"
   ]
  },
  {
   "cell_type": "code",
   "execution_count": null,
   "metadata": {},
   "outputs": [],
   "source": [
    "def evaluate_bert(dataset):\n",
    "    data = con.execute(f\"SELECT * FROM '../../data/processed/{dataset}_test.csv' \").fetch_df()\n",
    "    tokenizer = DistilBertTokenizerFast.from_pretrained(f\"../../models/bert/{dataset}\")\n",
    "    model = DistilBertForSequenceClassification.from_pretrained(f\"../../models/bert/{dataset}\")\n",
    "    label_encoder = torch.load(f\"../../models/bert/{dataset}/label_encoder.pt\")\n",
    "\n",
    "    texts = data['x'].tolist()\n",
    "    # Tokenize the input\n",
    "    encodings = tokenizer(texts, truncation=True, padding=True, return_tensors=\"pt\")\n",
    "\n",
    "    # Create a DataLoader for batch processing\n",
    "    dataset = TensorDataset(encodings['input_ids'], encodings['attention_mask'])\n",
    "    dataloader = DataLoader(dataset, batch_size=64)  # Adjust batch size as needed\n",
    "\n",
    "    # Run inference\n",
    "    model.eval()\n",
    "    predictions = []\n",
    "\n",
    "    with torch.no_grad():\n",
    "        for batch in tqdm(dataloader, total=len(dataloader)):\n",
    "            input_ids, attention_mask = batch\n",
    "            outputs = model(input_ids, attention_mask=attention_mask)\n",
    "            logits = outputs.logits\n",
    "            predicted_classes = torch.argmax(logits, dim=1)\n",
    "            predictions.extend(predicted_classes.tolist())\n",
    "\n",
    "    # Add predictions to the DataFrame\n",
    "    data['y_pred'] = predictions\n",
    "\n",
    "    # Encode the labels\n",
    "    data[\"y_encoded\"] = label_encoder.transform(data[\"y\"])\n",
    "\n",
    "    # Calculate metrics\n",
    "    accuracy = accuracy_score(data[\"y_encoded\"], data[\"y_pred\"])\n",
    "    precision = precision_score(data[\"y_encoded\"], data[\"y_pred\"], average=\"macro\")\n",
    "    recall = recall_score(data[\"y_encoded\"], data[\"y_pred\"], average=\"macro\")\n",
    "    f1 = f1_score(data[\"y_encoded\"], data[\"y_pred\"], average=\"macro\")\n",
    "\n",
    "    return {\n",
    "        \"model\": \"bert\",\n",
    "        \"dataset\": dataset,\n",
    "        \"accuracy\": accuracy,\n",
    "        \"precision\": precision,\n",
    "        \"recall\": recall,\n",
    "        \"f1\": f1\n",
    "    }\n",
    "\n"
   ]
  },
  {
   "cell_type": "code",
   "execution_count": null,
   "metadata": {},
   "outputs": [],
   "source": [
    "for d in datasets:\n",
    "    evaluation_metrics.append(evaluate_bert(d))"
   ]
  },
  {
   "cell_type": "markdown",
   "metadata": {},
   "source": [
    "# Distant labeling"
   ]
  },
  {
   "cell_type": "code",
   "execution_count": 30,
   "metadata": {},
   "outputs": [],
   "source": [
    "def evaluate_distant_labeling(dataset):\n",
    "    mapping = MAPPING_PATHS[dataset]\n",
    "\n",
    "    if mapping is not None:\n",
    "        data = con.execute(f\"\"\"\n",
    "        WITH mapping AS (\n",
    "            SELECT * FROM '{mapping}'\n",
    "        )\n",
    "        SELECT x.text AS x, x.y, m.category AS y_pred FROM '../../data/processed/{dataset}_test.csv' x LEFT JOIN mapping m ON SPLIT_PART(SPLIT_PART(x.URL, '://', 2), '/', 2) = m.slug\n",
    "        \"\"\").fetch_df()\n",
    "\n",
    "        labeled = data[data[\"y_pred\"].notnull()]\n",
    "        unlabeled = data[data[\"y_pred\"].isnull()]\n",
    "    else:\n",
    "        data = con.execute(f\"SELECT text AS x, y, NULL AS y_pred FROM '../../data/processed/{dataset}_test.csv' \").fetch_df()\n",
    "        unlabeled = data\n",
    "        labeled = None\n",
    "    \n",
    "    # load in vectorizer and model\n",
    "    vectorizer = torch.load(f\"../../models/distant/{dataset}/vectorizer.pt\")\n",
    "    model = torch.load(f\"../../models/distant/{dataset}/model.pt\")\n",
    "    # vectorize the text\n",
    "    X = vectorizer.transform(unlabeled[\"x\"])\n",
    "    # run inference\n",
    "    y_pred = model.predict(X)\n",
    "    # add predictions to the DataFrame\n",
    "    unlabeled[\"y_pred\"] = y_pred\n",
    "    # combine labeled and unlabeled data\n",
    "    if labeled is not None:\n",
    "        labeled = pd.concat([labeled, unlabeled])\n",
    "    else:   \n",
    "        labeled = unlabeled\n",
    "    \n",
    "    # Calculate metrics\n",
    "    accuracy = accuracy_score(labeled[\"y\"], labeled[\"y_pred\"])\n",
    "    precision = precision_score(labeled[\"y\"], labeled[\"y_pred\"], average=\"macro\")\n",
    "    recall = recall_score(labeled[\"y\"], labeled[\"y_pred\"], average=\"macro\")\n",
    "    f1 = f1_score(labeled[\"y\"], labeled[\"y_pred\"], average=\"macro\")\n",
    "\n",
    "    return {\n",
    "        \"model\": \"distant_labeling\",\n",
    "        \"dataset\": dataset,\n",
    "        \"accuracy\": accuracy,\n",
    "        \"precision\": precision,\n",
    "        \"recall\": recall,\n",
    "        \"f1\": f1\n",
    "    }\n",
    "\n"
   ]
  },
  {
   "cell_type": "code",
   "execution_count": null,
   "metadata": {},
   "outputs": [],
   "source": [
    "for d in datasets:\n",
    "    evaluation_metrics.append(evaluate_distant_labeling(d))"
   ]
  },
  {
   "cell_type": "markdown",
   "metadata": {},
   "source": [
    "# XGBoost"
   ]
  },
  {
   "cell_type": "code",
   "execution_count": 33,
   "metadata": {},
   "outputs": [],
   "source": [
    "def evaluate_xgboost(dataset):\n",
    "    data = con.execute(f\"SELECT * FROM '../../data/processed/{dataset}_test.csv' \").fetch_df()\n",
    "\n",
    "    embedder = SentenceTransformer(\"sentence-transformers/all-MiniLM-L6-v2\")\n",
    "\n",
    "    X = embedder.encode(data[\"text\"].tolist())\n",
    "\n",
    "    # load label encoder and model\n",
    "    label_encoder = torch.load(f\"../../models/xgboost/{dataset}/label_encoder.pt\")\n",
    "    model = torch.load(f\"../../models/xgboost/{dataset}/model.pt\")\n",
    "\n",
    "    # run inference\n",
    "    y_pred = model.predict(X)\n",
    "    # add predictions to the DataFrame\n",
    "    data['y_pred'] = y_pred\n",
    "\n",
    "    # Encode the labels\n",
    "    data[\"y_encoded\"] = label_encoder.transform(data[\"y\"])\n",
    "\n",
    "    # Calculate metrics\n",
    "    accuracy = accuracy_score(data[\"y_encoded\"], data[\"y_pred\"])\n",
    "    precision = precision_score(data[\"y_encoded\"], data[\"y_pred\"], average=\"macro\")\n",
    "    recall = recall_score(data[\"y_encoded\"], data[\"y_pred\"], average=\"macro\")\n",
    "    f1 = f1_score(data[\"y_encoded\"], data[\"y_pred\"], average=\"macro\")\n",
    "\n",
    "    return {\n",
    "        \"model\": \"xgboost\",\n",
    "        \"dataset\": dataset,\n",
    "        \"accuracy\": accuracy,\n",
    "        \"precision\": precision,\n",
    "        \"recall\": recall,\n",
    "        \"f1\": f1\n",
    "    }\n"
   ]
  },
  {
   "cell_type": "code",
   "execution_count": 37,
   "metadata": {},
   "outputs": [
    {
     "name": "stderr",
     "output_type": "stream",
     "text": [
      "/Users/nrh146/.pyenv/versions/3.12.5/envs/url-clf/lib/python3.12/site-packages/transformers/tokenization_utils_base.py:1601: FutureWarning: `clean_up_tokenization_spaces` was not set. It will be set to `True` by default. This behavior will be depracted in transformers v4.45, and will be then set to `False` by default. For more details check this issue: https://github.com/huggingface/transformers/issues/31884\n",
      "  warnings.warn(\n",
      "/var/folders/68/cp3f18nd7896mtv8sdjnzw500000gp/T/ipykernel_18973/3580512739.py:9: FutureWarning: You are using `torch.load` with `weights_only=False` (the current default value), which uses the default pickle module implicitly. It is possible to construct malicious pickle data which will execute arbitrary code during unpickling (See https://github.com/pytorch/pytorch/blob/main/SECURITY.md#untrusted-models for more details). In a future release, the default value for `weights_only` will be flipped to `True`. This limits the functions that could be executed during unpickling. Arbitrary objects will no longer be allowed to be loaded via this mode unless they are explicitly allowlisted by the user via `torch.serialization.add_safe_globals`. We recommend you start setting `weights_only=True` for any use case where you don't have full control of the loaded file. Please open an issue on GitHub for any issues related to this experimental feature.\n",
      "  label_encoder = torch.load(f\"../../models/xgboost/{dataset}/label_encoder.pt\")\n",
      "/var/folders/68/cp3f18nd7896mtv8sdjnzw500000gp/T/ipykernel_18973/3580512739.py:10: FutureWarning: You are using `torch.load` with `weights_only=False` (the current default value), which uses the default pickle module implicitly. It is possible to construct malicious pickle data which will execute arbitrary code during unpickling (See https://github.com/pytorch/pytorch/blob/main/SECURITY.md#untrusted-models for more details). In a future release, the default value for `weights_only` will be flipped to `True`. This limits the functions that could be executed during unpickling. Arbitrary objects will no longer be allowed to be loaded via this mode unless they are explicitly allowlisted by the user via `torch.serialization.add_safe_globals`. We recommend you start setting `weights_only=True` for any use case where you don't have full control of the loaded file. Please open an issue on GitHub for any issues related to this experimental feature.\n",
      "  model = torch.load(f\"../../models/xgboost/{dataset}/model.pt\")\n"
     ]
    },
    {
     "data": {
      "text/plain": [
       "{'model': 'xgboost',\n",
       " 'dataset': 'recognasumm',\n",
       " 'accuracy': 0.6901968785065796,\n",
       " 'precision': 0.6974053369921437,\n",
       " 'recall': 0.6619799563394132,\n",
       " 'f1': 0.6757120842405777}"
      ]
     },
     "execution_count": 37,
     "metadata": {},
     "output_type": "execute_result"
    }
   ],
   "source": [
    "for d in datasets:\n",
    "    evaluation_metrics.append(evaluate_xgboost(d))"
   ]
  },
  {
   "cell_type": "markdown",
   "metadata": {},
   "source": [
    "# Persist results"
   ]
  },
  {
   "cell_type": "code",
   "execution_count": null,
   "metadata": {},
   "outputs": [],
   "source": [
    "pd.DataFrame(evaluation_metrics).to_csv(\"../../data/processed/evaluation_metrics.csv\", index=False)"
   ]
  }
 ],
 "metadata": {
  "kernelspec": {
   "display_name": "url-clf",
   "language": "python",
   "name": "python3"
  },
  "language_info": {
   "codemirror_mode": {
    "name": "ipython",
    "version": 3
   },
   "file_extension": ".py",
   "mimetype": "text/x-python",
   "name": "python",
   "nbconvert_exporter": "python",
   "pygments_lexer": "ipython3",
   "version": "3.12.4"
  }
 },
 "nbformat": 4,
 "nbformat_minor": 2
}
