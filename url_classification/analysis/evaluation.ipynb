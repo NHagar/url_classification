{
 "cells": [
  {
   "cell_type": "code",
   "execution_count": 9,
   "metadata": {},
   "outputs": [],
   "source": [
    "import duckdb\n",
    "from sklearn.metrics import accuracy_score, precision_score, recall_score, f1_score\n",
    "from transformers import DistilBertTokenizerFast, DistilBertForSequenceClassification\n",
    "import torch\n",
    "from torch.utils.data import DataLoader, TensorDataset\n",
    "from tqdm import tqdm"
   ]
  },
  {
   "cell_type": "code",
   "execution_count": 2,
   "metadata": {},
   "outputs": [],
   "source": [
    "con = duckdb.connect(':memory:')"
   ]
  },
  {
   "cell_type": "code",
   "execution_count": 3,
   "metadata": {},
   "outputs": [],
   "source": [
    "# load in test sets\n",
    "test_huffpo = con.execute(\"SELECT * FROM '../../data/processed/huffpo_test.csv' \").fetch_df()\n",
    "test_recognasumm = con.execute(\"SELECT * FROM '../../data/processed/recognasumm_test.csv' \").fetch_df()\n",
    "test_uci = con.execute(\"SELECT * FROM '../../data/processed/uci_test.csv' \").fetch_df()"
   ]
  },
  {
   "cell_type": "markdown",
   "metadata": {},
   "source": [
    "# BERT"
   ]
  },
  {
   "cell_type": "code",
   "execution_count": null,
   "metadata": {},
   "outputs": [],
   "source": [
    "def evaluate_bert(dataset):\n",
    "    data = con.execute(f\"SELECT * FROM '../../data/processed/{dataset}_test.csv' \").fetch_df()\n",
    "    tokenizer = DistilBertTokenizerFast.from_pretrained(f\"../../models/bert/{dataset}\")\n",
    "    model = DistilBertForSequenceClassification.from_pretrained(f\"../../models/bert/{dataset}\")\n",
    "    label_encoder = torch.load(f\"../../models/bert/{dataset}/label_encoder.pt\")\n",
    "\n",
    "    texts = data['x'].tolist()\n",
    "    # Tokenize the input\n",
    "    encodings = tokenizer(texts, truncation=True, padding=True, return_tensors=\"pt\")\n",
    "\n",
    "    # Create a DataLoader for batch processing\n",
    "    dataset = TensorDataset(encodings['input_ids'], encodings['attention_mask'])\n",
    "    dataloader = DataLoader(dataset, batch_size=64)  # Adjust batch size as needed\n",
    "\n",
    "    # Run inference\n",
    "    model.eval()\n",
    "    predictions = []\n",
    "\n",
    "    with torch.no_grad():\n",
    "        for batch in tqdm(dataloader, total=len(dataloader)):\n",
    "            input_ids, attention_mask = batch\n",
    "            outputs = model(input_ids, attention_mask=attention_mask)\n",
    "            logits = outputs.logits\n",
    "            predicted_classes = torch.argmax(logits, dim=1)\n",
    "            predictions.extend(predicted_classes.tolist())\n",
    "\n",
    "    # Add predictions to the DataFrame\n",
    "    data['y_pred'] = predictions\n",
    "\n",
    "    # Encode the labels\n",
    "    data[\"y_encoded\"] = label_encoder.transform(data[\"y\"])\n",
    "\n",
    "    # Calculate metrics\n",
    "    accuracy = accuracy_score(data[\"y_encoded\"], data[\"y_pred\"])\n",
    "    precision = precision_score(data[\"y_encoded\"], data[\"y_pred\"], average=\"macro\")\n",
    "    recall = recall_score(data[\"y_encoded\"], data[\"y_pred\"], average=\"macro\")\n",
    "    f1 = f1_score(data[\"y_encoded\"], data[\"y_pred\"], average=\"macro\")\n",
    "\n",
    "    return {\n",
    "        \"model\": \"bert\",\n",
    "        \"dataset\": dataset,\n",
    "        \"accuracy\": accuracy,\n",
    "        \"precision\": precision,\n",
    "        \"recall\": recall,\n",
    "        \"f1\": f1\n",
    "    }\n",
    "\n"
   ]
  },
  {
   "cell_type": "code",
   "execution_count": null,
   "metadata": {},
   "outputs": [],
   "source": []
  },
  {
   "cell_type": "markdown",
   "metadata": {},
   "source": [
    "# Distant labeling"
   ]
  },
  {
   "cell_type": "code",
   "execution_count": null,
   "metadata": {},
   "outputs": [],
   "source": []
  },
  {
   "cell_type": "code",
   "execution_count": null,
   "metadata": {},
   "outputs": [],
   "source": []
  },
  {
   "cell_type": "code",
   "execution_count": null,
   "metadata": {},
   "outputs": [],
   "source": []
  },
  {
   "cell_type": "code",
   "execution_count": null,
   "metadata": {},
   "outputs": [],
   "source": []
  }
 ],
 "metadata": {
  "kernelspec": {
   "display_name": "url-clf",
   "language": "python",
   "name": "python3"
  },
  "language_info": {
   "codemirror_mode": {
    "name": "ipython",
    "version": 3
   },
   "file_extension": ".py",
   "mimetype": "text/x-python",
   "name": "python",
   "nbconvert_exporter": "python",
   "pygments_lexer": "ipython3",
   "version": "3.12.5"
  }
 },
 "nbformat": 4,
 "nbformat_minor": 2
}
