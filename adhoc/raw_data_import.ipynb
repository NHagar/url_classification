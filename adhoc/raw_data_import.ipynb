{
 "cells": [
  {
   "cell_type": "code",
   "execution_count": 2,
   "metadata": {},
   "outputs": [
    {
     "name": "stdout",
     "output_type": "stream",
     "text": [
      "Warning: Your Kaggle API key is readable by other users on this system! To fix this, you can run 'chmod 600 /Users/nrh146/.kaggle/kaggle.json'\n"
     ]
    }
   ],
   "source": [
    "from pathlib import Path\n",
    "import zipfile\n",
    "\n",
    "from datasets import load_dataset\n",
    "import kaggle\n",
    "import pandas as pd"
   ]
  },
  {
   "cell_type": "code",
   "execution_count": 3,
   "metadata": {},
   "outputs": [],
   "source": [
    "data_relpath = Path(\"../data\")"
   ]
  },
  {
   "cell_type": "markdown",
   "metadata": {},
   "source": [
    "# RecognaSumm\n",
    "\n",
    "https://huggingface.co/datasets/recogna-nlp/recognasumm"
   ]
  },
  {
   "cell_type": "markdown",
   "metadata": {},
   "source": [
    "## Download to parquet"
   ]
  },
  {
   "cell_type": "code",
   "execution_count": 4,
   "metadata": {},
   "outputs": [
    {
     "name": "stderr",
     "output_type": "stream",
     "text": [
      "Downloading readme: 100%|██████████| 2.66k/2.66k [00:00<00:00, 13.6kB/s]\n",
      "Downloading data: 100%|██████████| 289M/289M [00:03<00:00, 76.0MB/s] \n",
      "Downloading data: 100%|██████████| 95.3M/95.3M [00:01<00:00, 65.6MB/s]\n",
      "Downloading data: 100%|██████████| 96.0M/96.0M [00:01<00:00, 50.4MB/s]\n",
      "Generating train split: 81163 examples [00:00, 243835.43 examples/s]\n",
      "Generating validation split: 27054 examples [00:00, 232436.48 examples/s]\n",
      "Generating test split: 27055 examples [00:00, 270198.52 examples/s]\n"
     ]
    }
   ],
   "source": [
    "dataset = load_dataset(\"recogna-nlp/recognasumm\")"
   ]
  },
  {
   "cell_type": "code",
   "execution_count": 5,
   "metadata": {},
   "outputs": [],
   "source": [
    "data_all = []\n",
    "for d in dataset.items():\n",
    "    data_all.append(d[1].to_pandas())"
   ]
  },
  {
   "cell_type": "code",
   "execution_count": 6,
   "metadata": {},
   "outputs": [],
   "source": [
    "pd.concat(data_all).to_parquet(data_relpath / \"raw/recognasumm.parquet\")"
   ]
  },
  {
   "cell_type": "markdown",
   "metadata": {},
   "source": [
    "# News Categories\n",
    "\n",
    "https://www.kaggle.com/datasets/rmisra/news-category-dataset"
   ]
  },
  {
   "cell_type": "markdown",
   "metadata": {},
   "source": [
    "## Download and extract"
   ]
  },
  {
   "cell_type": "code",
   "execution_count": 7,
   "metadata": {},
   "outputs": [
    {
     "name": "stdout",
     "output_type": "stream",
     "text": [
      "Warning: Your Kaggle API key is readable by other users on this system! To fix this, you can run 'chmod 600 /Users/nrh146/.kaggle/kaggle.json'\n"
     ]
    }
   ],
   "source": [
    "kaggle.api.authenticate()"
   ]
  },
  {
   "cell_type": "code",
   "execution_count": 8,
   "metadata": {},
   "outputs": [
    {
     "name": "stdout",
     "output_type": "stream",
     "text": [
      "Dataset URL: https://www.kaggle.com/datasets/rmisra/news-category-dataset\n"
     ]
    }
   ],
   "source": [
    "kaggle.api.dataset_download_files(\"rmisra/news-category-dataset\", data_relpath / \"raw/\")"
   ]
  },
  {
   "cell_type": "code",
   "execution_count": 9,
   "metadata": {},
   "outputs": [],
   "source": [
    "with zipfile.ZipFile(data_relpath / \"raw/news-category-dataset.zip\", \"r\") as zr:\n",
    "    zr.extractall(data_relpath / \"raw/news_category_unzipped/\")"
   ]
  },
  {
   "cell_type": "markdown",
   "metadata": {},
   "source": [
    "## Convert to parquet"
   ]
  },
  {
   "cell_type": "code",
   "execution_count": 10,
   "metadata": {},
   "outputs": [],
   "source": [
    "pd.read_json(data_relpath / \"raw/news_category_unzipped/News_Category_Dataset_v3.json\", lines=True).to_parquet(data_relpath / \"raw/news_categories.parquet\")"
   ]
  },
  {
   "cell_type": "markdown",
   "metadata": {},
   "source": [
    "## Clean up intermediate files"
   ]
  },
  {
   "cell_type": "code",
   "execution_count": 11,
   "metadata": {},
   "outputs": [],
   "source": [
    "(data_relpath / \"raw/news_category_unzipped/News_Category_Dataset_v3.json\").unlink()\n",
    "(data_relpath / \"raw/news_category_unzipped/\").rmdir()\n",
    "(data_relpath / \"raw/news-category-dataset.zip\").unlink()"
   ]
  },
  {
   "cell_type": "markdown",
   "metadata": {},
   "source": [
    "# UCI news aggregator \n",
    "\n",
    "https://www.kaggle.com/datasets/uciml/news-aggregator-dataset"
   ]
  },
  {
   "cell_type": "markdown",
   "metadata": {},
   "source": [
    "## Download and extract"
   ]
  },
  {
   "cell_type": "code",
   "execution_count": 12,
   "metadata": {},
   "outputs": [
    {
     "name": "stdout",
     "output_type": "stream",
     "text": [
      "Dataset URL: https://www.kaggle.com/datasets/uciml/news-aggregator-dataset\n"
     ]
    }
   ],
   "source": [
    "kaggle.api.dataset_download_files(\"uciml/news-aggregator-dataset\", data_relpath / \"raw/\")"
   ]
  },
  {
   "cell_type": "code",
   "execution_count": 13,
   "metadata": {},
   "outputs": [],
   "source": [
    "with zipfile.ZipFile(data_relpath / \"raw/news-aggregator-dataset.zip\", \"r\") as zr:\n",
    "    zr.extractall(data_relpath / \"raw/news_aggregator_unzipped/\")"
   ]
  },
  {
   "cell_type": "markdown",
   "metadata": {},
   "source": [
    "## Convert to parquet"
   ]
  },
  {
   "cell_type": "code",
   "execution_count": 14,
   "metadata": {},
   "outputs": [],
   "source": [
    "pd.read_csv(data_relpath / \"raw/news_aggregator_unzipped/uci-news-aggregator.csv\").to_parquet(data_relpath / \"raw/uci_categories.parquet\")"
   ]
  },
  {
   "cell_type": "markdown",
   "metadata": {},
   "source": [
    "## Clean up intermediate files"
   ]
  },
  {
   "cell_type": "code",
   "execution_count": 15,
   "metadata": {},
   "outputs": [],
   "source": [
    "(data_relpath / \"raw/news_aggregator_unzipped/uci-news-aggregator.csv\").unlink()\n",
    "(data_relpath / \"raw/news_aggregator_unzipped/\").rmdir()\n",
    "(data_relpath / \"raw/news-aggregator-dataset.zip\").unlink()"
   ]
  },
  {
   "cell_type": "code",
   "execution_count": null,
   "metadata": {},
   "outputs": [],
   "source": []
  }
 ],
 "metadata": {
  "kernelspec": {
   "display_name": ".venv",
   "language": "python",
   "name": "python3"
  },
  "language_info": {
   "codemirror_mode": {
    "name": "ipython",
    "version": 3
   },
   "file_extension": ".py",
   "mimetype": "text/x-python",
   "name": "python",
   "nbconvert_exporter": "python",
   "pygments_lexer": "ipython3",
   "version": "3.10.16"
  }
 },
 "nbformat": 4,
 "nbformat_minor": 2
}
